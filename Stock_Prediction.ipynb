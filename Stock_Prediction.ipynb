{
  "nbformat": 4,
  "nbformat_minor": 0,
  "metadata": {
    "colab": {
      "name": "Stock Prediction.ipynb",
      "provenance": [],
      "authorship_tag": "ABX9TyNcUKWj/NfhNJOPsflhqJd0",
      "include_colab_link": true
    },
    "kernelspec": {
      "name": "python3",
      "display_name": "Python 3"
    },
    "language_info": {
      "name": "python"
    }
  },
  "cells": [
    {
      "cell_type": "markdown",
      "metadata": {
        "id": "view-in-github",
        "colab_type": "text"
      },
      "source": [
        "<a href=\"https://colab.research.google.com/github/chirag-miskin/Stock-Prediction-Bitcoin-/blob/main/Stock_Prediction.ipynb\" target=\"_parent\"><img src=\"https://colab.research.google.com/assets/colab-badge.svg\" alt=\"Open In Colab\"/></a>"
      ]
    },
    {
      "cell_type": "code",
      "metadata": {
        "colab": {
          "base_uri": "https://localhost:8080/"
        },
        "id": "42LWQxsNLhqH",
        "outputId": "cd2fbd1b-938e-46b2-cd28-5252fcb78b74"
      },
      "source": [
        "#Reading data\n",
        "import pandas as pd\n",
        "btc = pd.read_csv(\"/content/drive/MyDrive/Colab Notebooks/BTC-INR.csv\")\n",
        "print(btc.head())\n",
        "print(\"\\nTraining days = \", btc.shape)\n",
        "btc.isnull().any()\n",
        "btc = btc.fillna(method='ffill')"
      ],
      "execution_count": null,
      "outputs": [
        {
          "output_type": "stream",
          "text": [
            "         Date         Open        High  ...        Close    Adj Close        Volume\n",
            "0  2020-06-13  720128.2500  721075.875  ...  719713.6250  719713.6250  1.334133e+12\n",
            "1  2020-06-14  719886.5625  720244.875  ...  712992.6875  712992.6875  1.442556e+12\n",
            "2  2020-06-15  712935.5625  721046.750  ...  718047.8125  718047.8125  2.028597e+12\n",
            "3  2020-06-16  718318.6250  726470.375  ...  728741.8125  728741.8125  1.647690e+12\n",
            "4  2020-06-17  728417.8125  728927.000  ...  724133.6250  724133.6250  1.541241e+12\n",
            "\n",
            "[5 rows x 7 columns]\n",
            "\n",
            "Training days =  (366, 7)\n"
          ],
          "name": "stdout"
        }
      ]
    },
    {
      "cell_type": "code",
      "metadata": {
        "colab": {
          "base_uri": "https://localhost:8080/",
          "height": 301
        },
        "id": "2LIbzfNxMSa0",
        "outputId": "9626f935-4a57-46fb-ad3a-347fc576343f"
      },
      "source": [
        "import matplotlib.pyplot as plt\n",
        "import seaborn as sns\n",
        "sns.set()\n",
        "plt.figure(figsize=(12,4))\n",
        "plt.title(\"Bitcoin Stock Prediction\")\n",
        "plt.xlabel(\"Days\")\n",
        "plt.ylabel(\"Close Price INR\")\n",
        "plt.plot(btc[\"Close\"])\n",
        "plt.show()"
      ],
      "execution_count": null,
      "outputs": [
        {
          "output_type": "display_data",
          "data": {
            "image/png": "[encoded data removed]",
            "text/plain": [
              "<Figure size 864x288 with 1 Axes>"
            ]
          },
          "metadata": {
            "tags": []
          }
        }
      ]
    },
    {
      "cell_type": "code",
      "metadata": {
        "colab": {
          "base_uri": "https://localhost:8080/"
        },
        "id": "2sEc5gPBOAvZ",
        "outputId": "06f23ebd-6735-498f-e841-a517825c86f4"
      },
      "source": [
        "btc = btc[[\"Close\"]]\n",
        "print(btc.head())"
      ],
      "execution_count": null,
      "outputs": [
        {
          "output_type": "stream",
          "text": [
            "         Close\n",
            "0  719713.6250\n",
            "1  712992.6875\n",
            "2  718047.8125\n",
            "3  728741.8125\n",
            "4  724133.6250\n"
          ],
          "name": "stdout"
        }
      ]
    },
    {
      "cell_type": "code",
      "metadata": {
        "id": "OCEazM1ANoEz",
        "colab": {
          "base_uri": "https://localhost:8080/"
        },
        "outputId": "6c0a284e-a90b-4722-a0f1-d27f6b7383e5"
      },
      "source": [
        "futureDays = 25\n",
        "btc[\"Prediction\"] = btc[[\"Close\"]].shift(-futureDays)\n",
        "print(btc.head())\n",
        "print(btc.tail())"
      ],
      "execution_count": null,
      "outputs": [
        {
          "output_type": "stream",
          "text": [
            "         Close   Prediction\n",
            "0  719713.6250  706560.6250\n",
            "1  712992.6875  697124.2500\n",
            "2  718047.8125  697383.1250\n",
            "3  728741.8125  694832.4375\n",
            "4  724133.6250  697210.0000\n",
            "          Close  Prediction\n",
            "361  2725654.00         NaN\n",
            "362  2679750.50         NaN\n",
            "363  2734065.25         NaN\n",
            "364  2603574.75         NaN\n",
            "365  2623255.25         NaN\n"
          ],
          "name": "stdout"
        }
      ]
    },
    {
      "cell_type": "code",
      "metadata": {
        "colab": {
          "base_uri": "https://localhost:8080/"
        },
        "id": "cGlWw1ItAHwS",
        "outputId": "633a36e0-5ac2-48a1-a7c6-4c6b1236eedd"
      },
      "source": [
        "import numpy as np\n",
        "x = np.array(btc.drop([\"Prediction\"],1))[:-futureDays]\n",
        "np.any(np.isnan(x))\n",
        "np.all(np.isfinite(x))\n",
        "print(x)"
      ],
      "execution_count": null,
      "outputs": [
        {
          "output_type": "stream",
          "text": [
            "[[ 719713.625 ]\n",
            " [ 712992.6875]\n",
            " [ 718047.8125]\n",
            " [ 728741.8125]\n",
            " [ 724133.625 ]\n",
            " [ 719070.6875]\n",
            " [ 708232.3125]\n",
            " [ 711612.    ]\n",
            " [ 709423.625 ]\n",
            " [ 731276.8125]\n",
            " [ 728123.    ]\n",
            " [ 705452.875 ]\n",
            " [ 699862.625 ]\n",
            " [ 692973.125 ]\n",
            " [ 684084.8125]\n",
            " [ 691438.1875]\n",
            " [ 694011.0625]\n",
            " [ 690443.9375]\n",
            " [ 696325.6875]\n",
            " [ 683252.1875]\n",
            " [ 678634.875 ]\n",
            " [ 682009.1875]\n",
            " [ 677638.    ]\n",
            " [ 699483.0625]\n",
            " [ 693029.3125]\n",
            " [ 706560.625 ]\n",
            " [ 697124.25  ]\n",
            " [ 697383.125 ]\n",
            " [ 694832.4375]\n",
            " [ 697210.    ]\n",
            " [ 695231.125 ]\n",
            " [ 696265.9375]\n",
            " [ 690849.5625]\n",
            " [ 686567.75  ]\n",
            " [ 685416.75  ]\n",
            " [ 685989.5625]\n",
            " [ 687995.0625]\n",
            " [ 685029.5   ]\n",
            " [ 698836.9375]\n",
            " [ 710687.8125]\n",
            " [ 717179.625 ]\n",
            " [ 712641.4375]\n",
            " [ 723119.375 ]\n",
            " [ 740510.875 ]\n",
            " [ 822141.9375]\n",
            " [ 817375.875 ]\n",
            " [ 830489.3125]\n",
            " [ 830777.6875]\n",
            " [ 848466.1875]\n",
            " [ 881145.125 ]\n",
            " [ 828115.3125]\n",
            " [ 845338.0625]\n",
            " [ 841131.125 ]\n",
            " [ 878648.375 ]\n",
            " [ 882346.75  ]\n",
            " [ 870409.25  ]\n",
            " [ 881853.25  ]\n",
            " [ 875972.8125]\n",
            " [ 889387.3125]\n",
            " [ 851413.5   ]\n",
            " [ 866195.5625]\n",
            " [ 881735.6875]\n",
            " [ 880955.25  ]\n",
            " [ 888203.3125]\n",
            " [ 890807.1875]\n",
            " [ 915978.5625]\n",
            " [ 894266.    ]\n",
            " [ 881539.6875]\n",
            " [ 890749.    ]\n",
            " [ 868617.0625]\n",
            " [ 875311.    ]\n",
            " [ 873954.3125]\n",
            " [ 873601.4375]\n",
            " [ 843803.6875]\n",
            " [ 853137.9375]\n",
            " [ 835375.125 ]\n",
            " [ 844085.6875]\n",
            " [ 841479.8125]\n",
            " [ 856445.4375]\n",
            " [ 857813.75  ]\n",
            " [ 874639.1875]\n",
            " [ 836109.375 ]\n",
            " [ 752531.375 ]\n",
            " [ 769950.4375]\n",
            " [ 744882.125 ]\n",
            " [ 753452.625 ]\n",
            " [ 761595.1875]\n",
            " [ 747574.6875]\n",
            " [ 751046.25  ]\n",
            " [ 762048.75  ]\n",
            " [ 764222.8125]\n",
            " [ 767254.125 ]\n",
            " [ 758577.6875]\n",
            " [ 783969.75  ]\n",
            " [ 794767.375 ]\n",
            " [ 807217.4375]\n",
            " [ 805666.625 ]\n",
            " [ 805632.625 ]\n",
            " [ 816656.5   ]\n",
            " [ 804346.375 ]\n",
            " [ 769813.625 ]\n",
            " [ 774611.125 ]\n",
            " [ 754483.6875]\n",
            " [ 794391.5625]\n",
            " [ 788753.4375]\n",
            " [ 792596.6875]\n",
            " [ 794070.375 ]\n",
            " [ 790859.25  ]\n",
            " [ 799846.3125]\n",
            " [ 793269.0625]\n",
            " [ 778205.125 ]\n",
            " [ 776131.75  ]\n",
            " [ 774689.4375]\n",
            " [ 783410.6875]\n",
            " [ 789945.875 ]\n",
            " [ 781949.875 ]\n",
            " [ 783190.8125]\n",
            " [ 800505.3125]\n",
            " [ 800505.3125]\n",
            " [ 824196.0625]\n",
            " [ 831216.6875]\n",
            " [ 831216.6875]\n",
            " [ 831216.6875]\n",
            " [ 837731.9375]\n",
            " [ 843431.0625]\n",
            " [ 831547.75  ]\n",
            " [ 834190.1875]\n",
            " [ 843384.5   ]\n",
            " [ 861833.8125]\n",
            " [ 875624.8125]\n",
            " [ 945436.75  ]\n",
            " [ 955938.875 ]\n",
            " [ 954789.1875]\n",
            " [ 967822.6875]\n",
            " [ 962171.1875]\n",
            " [ 966898.375 ]\n",
            " [1007752.875 ]\n",
            " [ 984616.5625]\n",
            " [ 998199.5625]\n",
            " [1010758.25  ]\n",
            " [1028253.1875]\n",
            " [1025276.0625]\n",
            " [1008973.5   ]\n",
            " [1041555.25  ]\n",
            " [1048590.375 ]\n",
            " [1155050.875 ]\n",
            " [1151581.75  ]\n",
            " [1097418.25  ]\n",
            " [1145147.375 ]\n",
            " [1133938.25  ]\n",
            " [1135889.25  ]\n",
            " [1170436.875 ]\n",
            " [1218894.75  ]\n",
            " [1216295.125 ]\n",
            " [1197685.375 ]\n",
            " [1189296.    ]\n",
            " [1243985.5   ]\n",
            " [1315554.25  ]\n",
            " [1321773.875 ]\n",
            " [1320301.625 ]\n",
            " [1381006.    ]\n",
            " [1382557.375 ]\n",
            " [1362157.375 ]\n",
            " [1363430.5   ]\n",
            " [1413212.875 ]\n",
            " [1382251.625 ]\n",
            " [1266291.375 ]\n",
            " [1264934.5   ]\n",
            " [1310423.375 ]\n",
            " [1344213.625 ]\n",
            " [1452322.5   ]\n",
            " [1385217.    ]\n",
            " [1414407.125 ]\n",
            " [1437778.25  ]\n",
            " [1380015.625 ]\n",
            " [1413554.5   ]\n",
            " [1427727.5   ]\n",
            " [1416537.    ]\n",
            " [1350741.875 ]\n",
            " [1369604.5   ]\n",
            " [1347820.25  ]\n",
            " [1331632.875 ]\n",
            " [1386549.75  ]\n",
            " [1411568.625 ]\n",
            " [1417556.75  ]\n",
            " [1427655.25  ]\n",
            " [1568584.75  ]\n",
            " [1676864.375 ]\n",
            " [1703118.125 ]\n",
            " [1756989.125 ]\n",
            " [1727846.    ]\n",
            " [1685955.875 ]\n",
            " [1762833.75  ]\n",
            " [1716141.375 ]\n",
            " [1745972.625 ]\n",
            " [1814318.625 ]\n",
            " [1944683.375 ]\n",
            " [1936930.75  ]\n",
            " [1991956.25  ]\n",
            " [2009443.875 ]\n",
            " [2110859.25  ]\n",
            " [2118790.25  ]\n",
            " [2147022.75  ]\n",
            " [2348254.25  ]\n",
            " [2395940.25  ]\n",
            " [2336819.    ]\n",
            " [2487166.5   ]\n",
            " [2693424.25  ]\n",
            " [2891625.75  ]\n",
            " [2993704.25  ]\n",
            " [2953814.25  ]\n",
            " [2813688.5   ]\n",
            " [2614815.75  ]\n",
            " [2481337.5   ]\n",
            " [2730439.75  ]\n",
            " [2864221.75  ]\n",
            " [2694199.    ]\n",
            " [2645725.5   ]\n",
            " [2617995.75  ]\n",
            " [2680935.25  ]\n",
            " [2640030.25  ]\n",
            " [2591756.25  ]\n",
            " [2248893.5   ]\n",
            " [2409401.    ]\n",
            " [2340918.75  ]\n",
            " [2356991.    ]\n",
            " [2361793.5   ]\n",
            " [2374998.5   ]\n",
            " [2222773.5   ]\n",
            " [2308492.25  ]\n",
            " [2501913.5   ]\n",
            " [2498482.75  ]\n",
            " [2414384.5   ]\n",
            " [2452240.    ]\n",
            " [2589344.75  ]\n",
            " [2730151.    ]\n",
            " [2695098.25  ]\n",
            " [2776459.25  ]\n",
            " [2858106.25  ]\n",
            " [2831977.75  ]\n",
            " [3369115.    ]\n",
            " [3386420.25  ]\n",
            " [3270382.75  ]\n",
            " [3483475.5   ]\n",
            " [3448422.25  ]\n",
            " [3419439.    ]\n",
            " [3536634.    ]\n",
            " [3482678.5   ]\n",
            " [3588405.    ]\n",
            " [3796127.    ]\n",
            " [3752245.    ]\n",
            " [4054759.5   ]\n",
            " [4071170.25  ]\n",
            " [4175234.25  ]\n",
            " [3927762.    ]\n",
            " [3534027.    ]\n",
            " [3598459.75  ]\n",
            " [3444981.25  ]\n",
            " [3410439.5   ]\n",
            " [3399303.75  ]\n",
            " [3326373.5   ]\n",
            " [3638530.75  ]\n",
            " [3545103.5   ]\n",
            " [3689294.5   ]\n",
            " [3551448.    ]\n",
            " [3580544.25  ]\n",
            " [3579452.    ]\n",
            " [3747472.    ]\n",
            " [3831271.25  ]\n",
            " [3989882.75  ]\n",
            " [4072166.    ]\n",
            " [4198921.    ]\n",
            " [4167426.5   ]\n",
            " [4451714.    ]\n",
            " [4310706.5   ]\n",
            " [4054141.25  ]\n",
            " [4119249.75  ]\n",
            " [4272263.5   ]\n",
            " [4204622.    ]\n",
            " [4226751.    ]\n",
            " [4224360.    ]\n",
            " [4165414.75  ]\n",
            " [3946860.5   ]\n",
            " [3974729.    ]\n",
            " [3833831.5   ]\n",
            " [3754396.75  ]\n",
            " [3994554.75  ]\n",
            " [4055135.    ]\n",
            " [4053488.75  ]\n",
            " [4200873.5   ]\n",
            " [4327242.    ]\n",
            " [4313079.    ]\n",
            " [4330986.5   ]\n",
            " [4357392.5   ]\n",
            " [4226751.5   ]\n",
            " [4311483.    ]\n",
            " [4327746.5   ]\n",
            " [4276035.5   ]\n",
            " [4170133.5   ]\n",
            " [4347744.    ]\n",
            " [4352631.5   ]\n",
            " [4468330.5   ]\n",
            " [4499101.5   ]\n",
            " [4491485.5   ]\n",
            " [4774301.    ]\n",
            " [4734890.5   ]\n",
            " [4731307.5   ]\n",
            " [4591076.5   ]\n",
            " [4524215.5   ]\n",
            " [4191673.    ]\n",
            " [4172547.    ]\n",
            " [4260859.5   ]\n",
            " [4066144.75  ]\n",
            " [3886924.75  ]\n",
            " [3825294.75  ]\n",
            " [3747273.5   ]\n",
            " [3668868.    ]\n",
            " [4041646.    ]\n",
            " [4104108.5   ]\n",
            " [4074136.75  ]\n",
            " [3968757.5   ]\n",
            " [4279028.5   ]\n",
            " [4284798.5   ]\n",
            " [4196083.    ]\n",
            " [4223535.    ]\n",
            " [3934903.    ]\n",
            " [4237814.    ]\n",
            " [4151654.75  ]\n",
            " [4203679.5   ]\n",
            " [4310081.5   ]\n",
            " [4267878.5   ]\n",
            " [4105709.25  ]\n",
            " [4160718.    ]\n",
            " [3621502.    ]\n",
            " [3651423.    ]\n",
            " [3655200.5   ]\n",
            " [3426544.5   ]\n",
            " [3404260.75  ]\n",
            " [3189991.25  ]\n",
            " [3137897.75  ]\n",
            " [2709442.75  ]]\n"
          ],
          "name": "stdout"
        }
      ]
    },
    {
      "cell_type": "code",
      "metadata": {
        "colab": {
          "base_uri": "https://localhost:8080/"
        },
        "id": "cpkR0MRWBUpY",
        "outputId": "37929f9b-13c1-44c7-8697-322181ff26af"
      },
      "source": [
        "y = np.array(btc[\"Prediction\"])[:-futureDays]\n",
        "\n",
        "np.any(np.isnan(y))\n",
        "np.all(np.isfinite(y))\n",
        "print(y)"
      ],
      "execution_count": null,
      "outputs": [
        {
          "output_type": "stream",
          "text": [
            "[ 706560.625   697124.25    697383.125   694832.4375  697210.\n",
            "  695231.125   696265.9375  690849.5625  686567.75    685416.75\n",
            "  685989.5625  687995.0625  685029.5     698836.9375  710687.8125\n",
            "  717179.625   712641.4375  723119.375   740510.875   822141.9375\n",
            "  817375.875   830489.3125  830777.6875  848466.1875  881145.125\n",
            "  828115.3125  845338.0625  841131.125   878648.375   882346.75\n",
            "  870409.25    881853.25    875972.8125  889387.3125  851413.5\n",
            "  866195.5625  881735.6875  880955.25    888203.3125  890807.1875\n",
            "  915978.5625  894266.      881539.6875  890749.      868617.0625\n",
            "  875311.      873954.3125  873601.4375  843803.6875  853137.9375\n",
            "  835375.125   844085.6875  841479.8125  856445.4375  857813.75\n",
            "  874639.1875  836109.375   752531.375   769950.4375  744882.125\n",
            "  753452.625   761595.1875  747574.6875  751046.25    762048.75\n",
            "  764222.8125  767254.125   758577.6875  783969.75    794767.375\n",
            "  807217.4375  805666.625   805632.625   816656.5     804346.375\n",
            "  769813.625   774611.125   754483.6875  794391.5625  788753.4375\n",
            "  792596.6875  794070.375   790859.25    799846.3125  793269.0625\n",
            "  778205.125   776131.75    774689.4375  783410.6875  789945.875\n",
            "  781949.875   783190.8125  800505.3125  800505.3125  824196.0625\n",
            "  831216.6875  831216.6875  831216.6875  837731.9375  843431.0625\n",
            "  831547.75    834190.1875  843384.5     861833.8125  875624.8125\n",
            "  945436.75    955938.875   954789.1875  967822.6875  962171.1875\n",
            "  966898.375  1007752.875   984616.5625  998199.5625 1010758.25\n",
            " 1028253.1875 1025276.0625 1008973.5    1041555.25   1048590.375\n",
            " 1155050.875  1151581.75   1097418.25   1145147.375  1133938.25\n",
            " 1135889.25   1170436.875  1218894.75   1216295.125  1197685.375\n",
            " 1189296.     1243985.5    1315554.25   1321773.875  1320301.625\n",
            " 1381006.     1382557.375  1362157.375  1363430.5    1413212.875\n",
            " 1382251.625  1266291.375  1264934.5    1310423.375  1344213.625\n",
            " 1452322.5    1385217.     1414407.125  1437778.25   1380015.625\n",
            " 1413554.5    1427727.5    1416537.     1350741.875  1369604.5\n",
            " 1347820.25   1331632.875  1386549.75   1411568.625  1417556.75\n",
            " 1427655.25   1568584.75   1676864.375  1703118.125  1756989.125\n",
            " 1727846.     1685955.875  1762833.75   1716141.375  1745972.625\n",
            " 1814318.625  1944683.375  1936930.75   1991956.25   2009443.875\n",
            " 2110859.25   2118790.25   2147022.75   2348254.25   2395940.25\n",
            " 2336819.     2487166.5    2693424.25   2891625.75   2993704.25\n",
            " 2953814.25   2813688.5    2614815.75   2481337.5    2730439.75\n",
            " 2864221.75   2694199.     2645725.5    2617995.75   2680935.25\n",
            " 2640030.25   2591756.25   2248893.5    2409401.     2340918.75\n",
            " 2356991.     2361793.5    2374998.5    2222773.5    2308492.25\n",
            " 2501913.5    2498482.75   2414384.5    2452240.     2589344.75\n",
            " 2730151.     2695098.25   2776459.25   2858106.25   2831977.75\n",
            " 3369115.     3386420.25   3270382.75   3483475.5    3448422.25\n",
            " 3419439.     3536634.     3482678.5    3588405.     3796127.\n",
            " 3752245.     4054759.5    4071170.25   4175234.25   3927762.\n",
            " 3534027.     3598459.75   3444981.25   3410439.5    3399303.75\n",
            " 3326373.5    3638530.75   3545103.5    3689294.5    3551448.\n",
            " 3580544.25   3579452.     3747472.     3831271.25   3989882.75\n",
            " 4072166.     4198921.     4167426.5    4451714.     4310706.5\n",
            " 4054141.25   4119249.75   4272263.5    4204622.     4226751.\n",
            " 4224360.     4165414.75   3946860.5    3974729.     3833831.5\n",
            " 3754396.75   3994554.75   4055135.     4053488.75   4200873.5\n",
            " 4327242.     4313079.     4330986.5    4357392.5    4226751.5\n",
            " 4311483.     4327746.5    4276035.5    4170133.5    4347744.\n",
            " 4352631.5    4468330.5    4499101.5    4491485.5    4774301.\n",
            " 4734890.5    4731307.5    4591076.5    4524215.5    4191673.\n",
            " 4172547.     4260859.5    4066144.75   3886924.75   3825294.75\n",
            " 3747273.5    3668868.     4041646.     4104108.5    4074136.75\n",
            " 3968757.5    4279028.5    4284798.5    4196083.     4223535.\n",
            " 3934903.     4237814.     4151654.75   4203679.5    4310081.5\n",
            " 4267878.5    4105709.25   4160718.     3621502.     3651423.\n",
            " 3655200.5    3426544.5    3404260.75   3189991.25   3137897.75\n",
            " 2709442.75   2978043.25   2720086.5    2736998.5    2535125.\n",
            " 2819221.5    2795880.     2855617.5    2793746.75   2584281.75\n",
            " 2505985.25   2582873.75   2706163.5    2672689.5    2741540.\n",
            " 2863975.     2689965.5    2592088.     2614724.     2443543.25\n",
            " 2442683.75   2725654.     2679750.5    2734065.25   2603574.75\n",
            " 2623255.25  ]\n"
          ],
          "name": "stdout"
        }
      ]
    },
    {
      "cell_type": "code",
      "metadata": {
        "id": "JZM0xIpEBgbI"
      },
      "source": [
        "from sklearn.model_selection import train_test_split\n",
        "xtrain, xtest, ytrain, ytest = train_test_split(x,y, test_size=0.25)"
      ],
      "execution_count": null,
      "outputs": []
    },
    {
      "cell_type": "code",
      "metadata": {
        "id": "5qrc7JJsB07I"
      },
      "source": [
        "#Creating Decision tree regressor model\n",
        "from sklearn.tree import DecisionTreeRegressor\n",
        "tree = DecisionTreeRegressor().fit(xtrain,ytrain)"
      ],
      "execution_count": null,
      "outputs": []
    },
    {
      "cell_type": "code",
      "metadata": {
        "id": "WO9Yw6UpCQ30"
      },
      "source": [
        "#creating Linear regression model\n",
        "from sklearn.linear_model import LinearRegression\n",
        "linear = LinearRegression().fit(xtrain, ytrain)"
      ],
      "execution_count": null,
      "outputs": []
    },
    {
      "cell_type": "code",
      "metadata": {
        "colab": {
          "base_uri": "https://localhost:8080/"
        },
        "id": "GdATq4fsD6z6",
        "outputId": "f305cb01-ca08-4550-e0ae-0fdf9000d710"
      },
      "source": [
        "xfuture = btc.drop(['Prediction'],1)[:-futureDays]\n",
        "xfuture = xfuture.tail(futureDays)\n",
        "xfuture = np.array(xfuture)\n",
        "print(xfuture)"
      ],
      "execution_count": null,
      "outputs": [
        {
          "output_type": "stream",
          "text": [
            "[[3668868.  ]\n",
            " [4041646.  ]\n",
            " [4104108.5 ]\n",
            " [4074136.75]\n",
            " [3968757.5 ]\n",
            " [4279028.5 ]\n",
            " [4284798.5 ]\n",
            " [4196083.  ]\n",
            " [4223535.  ]\n",
            " [3934903.  ]\n",
            " [4237814.  ]\n",
            " [4151654.75]\n",
            " [4203679.5 ]\n",
            " [4310081.5 ]\n",
            " [4267878.5 ]\n",
            " [4105709.25]\n",
            " [4160718.  ]\n",
            " [3621502.  ]\n",
            " [3651423.  ]\n",
            " [3655200.5 ]\n",
            " [3426544.5 ]\n",
            " [3404260.75]\n",
            " [3189991.25]\n",
            " [3137897.75]\n",
            " [2709442.75]]\n"
          ],
          "name": "stdout"
        }
      ]
    },
    {
      "cell_type": "code",
      "metadata": {
        "colab": {
          "base_uri": "https://localhost:8080/"
        },
        "id": "Q86p6dM8ESvw",
        "outputId": "b048f649-9014-40a2-ed5b-ce1b5d60b1bd"
      },
      "source": [
        "treeprediction = tree.predict(xfuture)\n",
        "print(\"Decision Tree Prediction =\",treeprediction)\n",
        "tp = tree.score(xtrain,ytrain)\n"
      ],
      "execution_count": null,
      "outputs": [
        {
          "output_type": "stream",
          "text": [
            "Decision Tree Prediction = [2978043.25 3886924.75 2736998.5  3404260.75 2819221.5  4284798.5\n",
            " 2855617.5  2793746.75 2584281.75 4591076.5  4074136.75 2592088.\n",
            " 2672689.5  2741540.   4499101.5  2689965.5  2592088.   2614724.\n",
            " 2442683.75 2442683.75 2725654.   2679750.5  3747472.   3747472.\n",
            " 3638530.75]\n"
          ],
          "name": "stdout"
        }
      ]
    },
    {
      "cell_type": "code",
      "metadata": {
        "colab": {
          "base_uri": "https://localhost:8080/"
        },
        "id": "SKf3bUYdEl9W",
        "outputId": "f345ffa1-b440-4f49-f9d6-bfbe4278a8f2"
      },
      "source": [
        "linearprediction = linear.predict(xfuture)\n",
        "print(\"Linear Model Prediction =\",linearprediction)"
      ],
      "execution_count": null,
      "outputs": [
        {
          "output_type": "stream",
          "text": [
            "Linear Model Prediction = [3651406.40520757 3984631.97800955 4040467.09258483 4013675.40004496\n",
            " 3919477.08109188 4196827.76084991 4201985.55330297 4122682.93001535\n",
            " 4147222.22263605 3889214.60542425 4159986.19463558 4082968.59855041\n",
            " 4129473.42747977 4224585.98078837 4186860.79623091 4041898.00008383\n",
            " 4091070.22115876 3609066.02438752 3635812.35159515 3639189.05194029\n",
            " 3434793.87149883 3414874.46810612 3223339.35371768 3176773.06928899\n",
            " 2793777.92795857]\n"
          ],
          "name": "stdout"
        }
      ]
    },
    {
      "cell_type": "code",
      "metadata": {
        "colab": {
          "base_uri": "https://localhost:8080/",
          "height": 511
        },
        "id": "pYu56RVBEwLv",
        "outputId": "cf2fe116-1a17-429c-bdf3-02a96ce02c50"
      },
      "source": [
        "#Visualize Decision tree predictions\n",
        "predictions = treeprediction\n",
        "valid = btc[x.shape[0]:]\n",
        "valid[\"Predictions\"] = predictions\n",
        "plt.figure(figsize=(14,6))\n",
        "plt.title(\"Bitcoins Stock Price Prediction Model(Decision tree)\")\n",
        "plt.xlabel(\"Days\")\n",
        "plt.ylabel(\"Close price INR\")\n",
        "plt.plot(btc['Close'])\n",
        "plt.plot(valid[[\"Close\",\"Predictions\"]])\n",
        "plt.legend([\"Original\", \"Valid\", \"Predictions\"])\n",
        "plt.show()"
      ],
      "execution_count": null,
      "outputs": [
        {
          "output_type": "stream",
          "text": [
            "/usr/local/lib/python3.7/dist-packages/ipykernel_launcher.py:4: SettingWithCopyWarning: \n",
            "A value is trying to be set on a copy of a slice from a DataFrame.\n",
            "Try using .loc[row_indexer,col_indexer] = value instead\n",
            "\n",
            "See the caveats in the documentation: https://pandas.pydata.org/pandas-docs/stable/user_guide/indexing.html#returning-a-view-versus-a-copy\n",
            "  after removing the cwd from sys.path.\n"
          ],
          "name": "stderr"
        },
        {
          "output_type": "display_data",
          "data": {
            "image/png": "[encoded data removed]",
            "text/plain": [
              "<Figure size 1008x432 with 1 Axes>"
            ]
          },
          "metadata": {
            "tags": []
          }
        }
      ]
    },
    {
      "cell_type": "code",
      "metadata": {
        "colab": {
          "base_uri": "https://localhost:8080/",
          "height": 511
        },
        "id": "6pJnnmZUGHIR",
        "outputId": "4c1fdc7b-fbd7-4afd-8fed-be187d471a51"
      },
      "source": [
        "#Visualize Linear Regression predictions\n",
        "predictions = linearprediction\n",
        "valid = btc[x.shape[0]:]\n",
        "valid[\"Predictions\"] = predictions\n",
        "plt.figure(figsize=(14,6))\n",
        "plt.title(\"Bitcoins Stock Price Prediction Model(Linear Regression)\")\n",
        "plt.xlabel(\"Days\")\n",
        "plt.ylabel(\"Close price INR\")\n",
        "plt.plot(btc['Close'])\n",
        "plt.plot(valid[[\"Close\",\"Predictions\"]])\n",
        "plt.legend([\"Original\", \"Valid\", \"Predictions\"])\n",
        "plt.show()"
      ],
      "execution_count": null,
      "outputs": [
        {
          "output_type": "stream",
          "text": [
            "/usr/local/lib/python3.7/dist-packages/ipykernel_launcher.py:4: SettingWithCopyWarning: \n",
            "A value is trying to be set on a copy of a slice from a DataFrame.\n",
            "Try using .loc[row_indexer,col_indexer] = value instead\n",
            "\n",
            "See the caveats in the documentation: https://pandas.pydata.org/pandas-docs/stable/user_guide/indexing.html#returning-a-view-versus-a-copy\n",
            "  after removing the cwd from sys.path.\n"
          ],
          "name": "stderr"
        },
        {
          "output_type": "display_data",
          "data": {
            "image/png": "[encoded data removed]",
            "text/plain": [
              "<Figure size 1008x432 with 1 Axes>"
            ]
          },
          "metadata": {
            "tags": []
          }
        }
      ]
    }
  ]
}